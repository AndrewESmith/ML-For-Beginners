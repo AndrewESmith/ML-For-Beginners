{
 "cells": [
  {
   "attachments": {},
   "cell_type": "markdown",
   "metadata": {},
   "source": [
    "# Machine Learning Fundamentals"
   ]
  },
  {
   "cell_type": "code",
   "execution_count": 1,
   "metadata": {},
   "outputs": [],
   "source": [
    "# q: what is machine learning?\n",
    "# a: machine learning is the field of study that gives computers the ability to learn without being explicitly programmed.\n",
    "\n",
    "# q: What do you mean by \"explicitly programmed\"?\n",
    "# a: well, let's say you want to write a program that can recognize a cat in a picture. You could write a program that looks for a cat's ears, eyes, nose, and mouth, \n",
    "# but that would be a lot of work. Instead, you could write a program that looks at a bunch of pictures of cats and learns what a cat looks like. Then, when you show it a new picture, it can tell you whether or not it's a cat.\n",
    "# a: the first approach is called \"explicit programming\" because you're explicitly telling the computer what a cat looks like. The second approach is called \"machine learning\" because you're giving the computer a bunch of examples \n",
    "# and letting it learn on its own.\n",
    "\n",
    "# q: What's the difference with machine learning then?\n",
    "# a: well, the difference is that you're not explicitly telling the computer what a cat looks like. Instead, you're giving it a bunch of examples and letting it learn on its own.\n",
    "\n"
   ]
  },
  {
   "attachments": {},
   "cell_type": "markdown",
   "metadata": {},
   "source": [
    "# Supervised Learning"
   ]
  },
  {
   "cell_type": "code",
   "execution_count": null,
   "metadata": {},
   "outputs": [],
   "source": [
    "# q: What is Supervised Learning?\n",
    "# a: Supervised learning is the machine learning task of learning a function that maps an input to an output based on example input-output pairs. \n",
    "# It infers a function from labeled training data consisting of a set of training examples. In supervised learning, each example is a pair consisting of an input object (typically a vector) \n",
    "# and a desired output value (also called the supervisory signal). A supervised learning algorithm analyzes the training data and produces an inferred function, which can be used for mapping new examples. \n",
    "# An optimal scenario will allow for the algorithm to correctly determine the class labels for unseen instances. \n",
    "# This requires the learning algorithm to generalize from the training data to unseen situations in a \"reasonable\" way (see inductive bias).\n",
    "# a: supervised learning algorithms include classification and regression.\n"
   ]
  },
  {
   "cell_type": "code",
   "execution_count": null,
   "metadata": {},
   "outputs": [],
   "source": [
    "# q: What are some examples of Supervised Learning?\n",
    "# a: some examples of supervised learning include:\n",
    "# a: 1. predicting whether or not a patient has cancer based on a tumor's size"
   ]
  },
  {
   "attachments": {},
   "cell_type": "markdown",
   "metadata": {},
   "source": [
    "# Training a model"
   ]
  },
  {
   "cell_type": "code",
   "execution_count": null,
   "metadata": {},
   "outputs": [],
   "source": [
    "# q: What is a Label and a Feature?\n",
    "# a: a label is the thing we're predicting. In the example above, the label is whether or not the patient has cancer. A feature is an input variable. In the example above, the features are the tumor's size.\n",
    "\n",
    "# q: What is a training and a test set?\n",
    "# a: a training set is the data that we use to train our model. A test set is the data that we use to test our model's predictions. We want to make sure that our model can predict new data accurately.\n"
   ]
  },
  {
   "attachments": {},
   "cell_type": "markdown",
   "metadata": {},
   "source": [
    "# Evaluating a model"
   ]
  },
  {
   "cell_type": "code",
   "execution_count": null,
   "metadata": {},
   "outputs": [],
   "source": [
    "# q: What does it mean to evaluate a model?\n",
    "# a: evaluating a model means seeing how well it performs on the test set. We can do this by comparing the model's predictions to the actual labels. If the model predicted that a patient had cancer when they actually did [not have cancer],\n",
    "# then we would say that the model made a mistake. We can then calculate the percentage of mistakes the model made on the test set. This is called the model's accuracy.\n",
    "\n",
    "# q: What is a classification problem?\n",
    "# a: a classification problem is a problem where the output is a category. In the example above, the output is either \"cancer\" or \"no cancer\". This is a classification problem.\n",
    "\n",
    "# q: How can we measure accuracy of a model?\n",
    "# a: we can measure accuracy by calculating the percentage of mistakes the model made on the test set. This is called the model's accuracy.\n",
    "#   accuracy = (number of correct predictions) / (total number of predictions)\n",
    "# q: For example?\n",
    "# a: for example, if the model made 100 predictions and got 90 of them right, then the model's accuracy would be 90%.\n"
   ]
  }
 ],
 "metadata": {
  "kernelspec": {
   "display_name": "Python 3",
   "language": "python",
   "name": "python3"
  },
  "language_info": {
   "codemirror_mode": {
    "name": "ipython",
    "version": 3
   },
   "file_extension": ".py",
   "mimetype": "text/x-python",
   "name": "python",
   "nbconvert_exporter": "python",
   "pygments_lexer": "ipython3",
   "version": "3.9.2"
  },
  "orig_nbformat": 4
 },
 "nbformat": 4,
 "nbformat_minor": 2
}
