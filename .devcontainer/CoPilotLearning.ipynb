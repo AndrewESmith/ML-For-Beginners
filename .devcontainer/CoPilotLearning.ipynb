{
 "cells": [
  {
   "attachments": {},
   "cell_type": "markdown",
   "metadata": {},
   "source": [
    "# Computer Vision"
   ]
  },
  {
   "cell_type": "code",
   "execution_count": null,
   "metadata": {},
   "outputs": [],
   "source": [
    "#Q: what is a basic definition of Computer Vision?\n",
    "#A: Computer vision is a field of artificial intelligence that trains computers to interpret and understand the visual world.\n",
    "#Q: And how are machine Learning and AI used in Computer Vision?\n",
    "#A: Machine learning and AI are used to train computers to interpret and understand the visual world.\n",
    "\n",
    "\n",
    "#Q: And what is the difference between Machine Learning and AI?\n",
    "#A: Machine learning is a subset of AI that trains computers to learn from data and make predictions. \n",
    "#AI is a broad field that trains computers to perform tasks that normally require human intelligence.\n",
    "\n",
    "#Q: What are some of the most common applications of computer vision?\n",
    "#A: Some of the most common applications of computer vision are image classification, object detection, and image segmentation.\n",
    "\n",
    "#Q: What machine learning structure is most commonly used in Cputer Vision?\n",
    "#A: Convolutional neural networks are most commonly used in computer vision.\n",
    "\n",
    "#Q: What is Convolutional Neural Network?\n",
    "#A: Convolutional neural networks are a type of neural network that are commonly used in computer vision.\n",
    "\n",
    "#Q How is a convolutional Newral Network structured?\n",
    "#A: Convolutional neural networks are structured with convolutional layers, pooling layers, and fully connected layers.\n"
   ]
  },
  {
   "attachments": {},
   "cell_type": "markdown",
   "metadata": {},
   "source": [
    "# Neural Networks\n"
   ]
  },
  {
   "cell_type": "code",
   "execution_count": null,
   "metadata": {},
   "outputs": [],
   "source": [
    "#Q: What is a Neural Network?\n",
    "#A: Neural networks are a type of machine learning model that are inspired by the human brain.\n",
    "\n",
    "#Q: What is a Neural Netowrk made up of?\n",
    "#A: Neural networks are made up of neurons, which are connected by synapses.\n",
    "\n",
    "#Q: and what differentiates a convolutional neural network from a regular neural network?\n",
    "#A: Convolutional neural networks are different from regular neural networks because they have convolutional layers and pooling layers.\n",
    "\n",
    "#Q: What tools are most commonly used to work with Convolutional Neural Networks?\n",
    "#A: PyTorch and TensorFlow are the most commonly used tools to work with convolutional neural networks.\n",
    "\n",
    "#Q: What is Keras?\n",
    "#A: Keras is a high-level neural network API that is built on top of TensorFlow.\n",
    "\n",
    "#Q: What is PyTorch?\n",
    "#A: PyTorch is a machine learning framework that is built on top of the Torch library.\n"
   ]
  },
  {
   "attachments": {},
   "cell_type": "markdown",
   "metadata": {},
   "source": [
    "# PyTorch"
   ]
  },
  {
   "cell_type": "code",
   "execution_count": null,
   "metadata": {},
   "outputs": [],
   "source": [
    "#Q: What is PyTorch?\n",
    "#A: PyTorch is a machine learning framework that is built on top of the Torch library.\n",
    "\n",
    "#Q: What is a tensor?\n",
    "#A: A tensor is a multi-dimensional array that is used to represent data in PyTorch.\n",
    "\n",
    "#Q: Can tensors be run on GPUs?\n",
    "#A: Yes, tensors can be run on GPUs.\n",
    "\n"
   ]
  }
 ],
 "metadata": {
  "kernelspec": {
   "display_name": ".venv",
   "language": "python",
   "name": "python3"
  },
  "language_info": {
   "name": "python",
   "version": "3.9.2"
  },
  "orig_nbformat": 4
 },
 "nbformat": 4,
 "nbformat_minor": 2
}
